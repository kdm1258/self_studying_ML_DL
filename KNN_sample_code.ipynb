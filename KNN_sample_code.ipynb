{
  "nbformat": 4,
  "nbformat_minor": 0,
  "metadata": {
    "colab": {
      "provenance": [],
      "authorship_tag": "ABX9TyMhk+DF3ds3pYcBDJV6ljwY",
      "include_colab_link": true
    },
    "kernelspec": {
      "name": "python3",
      "display_name": "Python 3"
    },
    "language_info": {
      "name": "python"
    }
  },
  "cells": [
    {
      "cell_type": "markdown",
      "metadata": {
        "id": "view-in-github",
        "colab_type": "text"
      },
      "source": [
        "<a href=\"https://colab.research.google.com/github/kdm1258/self_studying_ML_DL/blob/main/KNN_sample_code.ipynb\" target=\"_parent\"><img src=\"https://colab.research.google.com/assets/colab-badge.svg\" alt=\"Open In Colab\"/></a>"
      ]
    },
    {
      "cell_type": "markdown",
      "source": [
        "KNN Regg"
      ],
      "metadata": {
        "id": "DzMlX9dAVKWF"
      }
    },
    {
      "cell_type": "code",
      "execution_count": 15,
      "metadata": {
        "colab": {
          "base_uri": "https://localhost:8080/",
          "height": 633
        },
        "id": "bwLPTiWLSVaz",
        "outputId": "e47b2e4b-37ad-47c9-e47b-ba528fe638da"
      },
      "outputs": [
        {
          "output_type": "stream",
          "name": "stderr",
          "text": [
            "/usr/local/lib/python3.11/dist-packages/IPython/core/pylabtools.py:151: UserWarning: Glyph 50696 (\\N{HANGUL SYLLABLE YE}) missing from font(s) DejaVu Sans.\n",
            "  fig.canvas.print_figure(bytes_io, **kw)\n",
            "/usr/local/lib/python3.11/dist-packages/IPython/core/pylabtools.py:151: UserWarning: Glyph 52769 (\\N{HANGUL SYLLABLE CEUG}) missing from font(s) DejaVu Sans.\n",
            "  fig.canvas.print_figure(bytes_io, **kw)\n",
            "/usr/local/lib/python3.11/dist-packages/IPython/core/pylabtools.py:151: UserWarning: Glyph 44208 (\\N{HANGUL SYLLABLE GYEOL}) missing from font(s) DejaVu Sans.\n",
            "  fig.canvas.print_figure(bytes_io, **kw)\n",
            "/usr/local/lib/python3.11/dist-packages/IPython/core/pylabtools.py:151: UserWarning: Glyph 44284 (\\N{HANGUL SYLLABLE GWA}) missing from font(s) DejaVu Sans.\n",
            "  fig.canvas.print_figure(bytes_io, **kw)\n"
          ]
        },
        {
          "output_type": "display_data",
          "data": {
            "text/plain": [
              "<Figure size 640x480 with 1 Axes>"
            ],
            "image/png": "[encoded data removed]"
          },
          "metadata": {}
        },
        {
          "output_type": "stream",
          "name": "stdout",
          "text": [
            "0.9917583940086913\n"
          ]
        }
      ],
      "source": [
        "from sklearn.model_selection import train_test_split\n",
        "import numpy as np\n",
        "import matplotlib.pyplot as plt\n",
        "from sklearn.linear_model import LinearRegression\n",
        "\n",
        "#가상의 데이터 만들기\n",
        "np.random.seed(42)\n",
        "X = np.linspace(0,10,100).reshape(-1,1)\n",
        "Y = 3*X+2 + np.random.normal(0,1,size=(100,1))\n",
        "\n",
        "#데이터 나누기\n",
        "train_input, test_input, train_target, test_target = train_test_split(X,Y,test_size=0.2, random_state=42)\n",
        "\n",
        "#모델 만들기\n",
        "model = LinearRegression()\n",
        "model.fit(train_input, train_target)\n",
        "\n",
        "#예측 수행\n",
        "predictions = model.predict(test_input)\n",
        "\n",
        "# 예측 결과 시각화\n",
        "plt.scatter(test_input, test_target, label=\"y\")\n",
        "plt.scatter(test_input, predictions, label=\"y^\", color=\"red\")\n",
        "plt.title(\"Linear Regression 예측 결과\")\n",
        "plt.xlabel(\"X\")\n",
        "plt.ylabel(\"y\")\n",
        "plt.legend()\n",
        "plt.show()\n",
        "\n",
        "print(model.score(test_input, test_target))"
      ]
    },
    {
      "cell_type": "markdown",
      "source": [
        "KNN Classification"
      ],
      "metadata": {
        "id": "2t3p67-GVNKO"
      }
    },
    {
      "cell_type": "code",
      "source": [
        "import matplotlib.pyplot as plt\n",
        "from sklearn.datasets import load_iris\n",
        "from sklearn.model_selection import train_test_split\n",
        "from sklearn.neighbors import KNeighborsClassifier\n",
        "from sklearn.preprocessing import StandardScaler\n",
        "from sklearn.metrics import accuracy_score, classification_report\n",
        "\n",
        "#iris datasets 로딩\n",
        "iris = load_iris()\n",
        "\n",
        "#데이터 분류\n",
        "train_input, test_input, train_target, test_target = train_test_split(iris['data'], iris['target'], test_size=0.2, random_state=42)\n",
        "\n",
        "#데이터 정규화\n",
        "ss = StandardScaler()\n",
        "ss.fit(train_input)\n",
        "train_scaled = ss.transform(train_input)\n",
        "test_scaled = ss.transform(test_input)\n",
        "\n",
        "#모델 만들기\n",
        "kn = KNeighborsClassifier(n_neighbors=3)\n",
        "kn.fit(train_scaled, train_target)\n",
        "\n",
        "#예측 수행\n",
        "predictions = kn.predict(test_scaled)\n",
        "\n",
        "#예측 확률\n",
        "proba = kn.predict(test_input)\n",
        "\n",
        "#류 리포트 출력\n",
        "print(\"\\n분류 리포트:\")\n",
        "print(classification_report(test_target, predictions, target_names=iris.target_names))\n",
        "#검증\n",
        "kn.score(test_scaled, test_target)\n"
      ],
      "metadata": {
        "colab": {
          "base_uri": "https://localhost:8080/"
        },
        "id": "kp3xQdnyTIpl",
        "outputId": "686ad6b6-6524-4daf-8f28-e4bbe64049b0"
      },
      "execution_count": 19,
      "outputs": [
        {
          "output_type": "stream",
          "name": "stdout",
          "text": [
            "\n",
            "분류 리포트:\n",
            "              precision    recall  f1-score   support\n",
            "\n",
            "      setosa       1.00      1.00      1.00        10\n",
            "  versicolor       1.00      1.00      1.00         9\n",
            "   virginica       1.00      1.00      1.00        11\n",
            "\n",
            "    accuracy                           1.00        30\n",
            "   macro avg       1.00      1.00      1.00        30\n",
            "weighted avg       1.00      1.00      1.00        30\n",
            "\n"
          ]
        },
        {
          "output_type": "execute_result",
          "data": {
            "text/plain": [
              "1.0"
            ]
          },
          "metadata": {},
          "execution_count": 19
        }
      ]
    },
    {
      "cell_type": "code",
      "source": [],
      "metadata": {
        "id": "hHyfIiS6V3RG"
      },
      "execution_count": null,
      "outputs": []
    }
  ]
}